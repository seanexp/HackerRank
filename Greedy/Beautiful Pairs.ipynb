{
 "cells": [
  {
   "cell_type": "code",
   "execution_count": 3,
   "metadata": {
    "collapsed": false
   },
   "outputs": [
    {
     "name": "stdout",
     "output_type": "stream",
     "text": [
      "3\n",
      "1 1 1\n",
      "1 1 1\n",
      "3\n",
      "2\n"
     ]
    }
   ],
   "source": [
    "N = int(input().strip())\n",
    "A = list(map(int, input().strip().split()))\n",
    "B = list(map(int, input().strip().split()))\n",
    "\n",
    "A.sort()\n",
    "B.sort(reverse=True)\n",
    "\n",
    "i = 0\n",
    "j = N-1\n",
    "cnt = 0\n",
    "while i < N and j >= 0:\n",
    "    if A[i] == B[j]:\n",
    "        cnt += 1\n",
    "        i += 1\n",
    "        j -= 1\n",
    "    elif A[i] > B[j]: j -= 1\n",
    "    else: # if A[i] < B[j]\n",
    "        i += 1\n",
    "\n",
    "print(cnt)\n",
    "result = cnt+1 if cnt != N else N-1\n",
    "print(result)"
   ]
  },
  {
   "cell_type": "code",
   "execution_count": null,
   "metadata": {
    "collapsed": true
   },
   "outputs": [],
   "source": []
  }
 ],
 "metadata": {
  "kernelspec": {
   "display_name": "Python 3",
   "language": "python",
   "name": "python3"
  },
  "language_info": {
   "codemirror_mode": {
    "name": "ipython",
    "version": 3
   },
   "file_extension": ".py",
   "mimetype": "text/x-python",
   "name": "python",
   "nbconvert_exporter": "python",
   "pygments_lexer": "ipython3",
   "version": "3.6.0"
  }
 },
 "nbformat": 4,
 "nbformat_minor": 2
}
