{
 "cells": [
  {
   "cell_type": "code",
   "execution_count": 19,
   "metadata": {
    "collapsed": true
   },
   "outputs": [],
   "source": [
    "def goodland_elec(towers, k):\n",
    "    min_towers = 0\n",
    "    towers_loc = set([i for i in range(len(towers)) if towers[i]])\n",
    "    possible = True\n",
    "    i = 0\n",
    "    rmost = 0\n",
    "    while i < len(towers):\n",
    "        # start from right ones\n",
    "        rmost = min(i + k - 1, len(towers) - 1)\n",
    "        while rmost > i - k:\n",
    "            if rmost in towers_loc:\n",
    "                min_towers += 1\n",
    "                new_i = rmost + k\n",
    "                break\n",
    "            rmost -= 1\n",
    "        if rmost <= i - k:\n",
    "            possible = False\n",
    "            break\n",
    "        i = new_i\n",
    "    \n",
    "    if possible: return min_towers\n",
    "    else: return -1"
   ]
  },
  {
   "cell_type": "code",
   "execution_count": 20,
   "metadata": {
    "collapsed": false
   },
   "outputs": [
    {
     "name": "stdout",
     "output_type": "stream",
     "text": [
      "9 4\n",
      "1 0 1 1 0 1 0 1 1\n",
      "2\n"
     ]
    }
   ],
   "source": [
    "n, k = list(map(int, input().strip().split(' ')))\n",
    "towers = list(map(int, input().strip().split(' ')))\n",
    "result = goodland_elec(towers, k)\n",
    "print(result)"
   ]
  },
  {
   "cell_type": "code",
   "execution_count": 21,
   "metadata": {
    "collapsed": true
   },
   "outputs": [],
   "source": [
    "from random import randrange"
   ]
  },
  {
   "cell_type": "code",
   "execution_count": 22,
   "metadata": {
    "collapsed": false
   },
   "outputs": [
    {
     "name": "stdout",
     "output_type": "stream",
     "text": [
      "11 3\n",
      "[0, 0, 1, 0, 0, 1, 0, 0, 1, 0, 1]\n",
      "3\n",
      "10 4\n",
      "[0, 0, 0, 0, 1, 0, 1, 0, 0, 1]\n",
      "-1\n",
      "11 3\n",
      "[0, 0, 1, 1, 1, 1, 1, 1, 0, 0, 1]\n",
      "3\n",
      "9 2\n",
      "[0, 0, 0, 1, 0, 1, 1, 0, 0]\n",
      "-1\n",
      "7 4\n",
      "[0, 0, 1, 1, 0, 0, 1]\n",
      "1\n"
     ]
    }
   ],
   "source": [
    "for i in range(5):    \n",
    "    n = randrange(4, 14)\n",
    "    k = randrange(2, 5)\n",
    "    t = [randrange(2) for i in range(n)]\n",
    "    print(n, k)\n",
    "    print(t)\n",
    "    print(goodland_elec(t, k))"
   ]
  },
  {
   "cell_type": "code",
   "execution_count": null,
   "metadata": {
    "collapsed": true
   },
   "outputs": [],
   "source": []
  }
 ],
 "metadata": {
  "kernelspec": {
   "display_name": "Python 3",
   "language": "python",
   "name": "python3"
  },
  "language_info": {
   "codemirror_mode": {
    "name": "ipython",
    "version": 3
   },
   "file_extension": ".py",
   "mimetype": "text/x-python",
   "name": "python",
   "nbconvert_exporter": "python",
   "pygments_lexer": "ipython3",
   "version": "3.6.0"
  }
 },
 "nbformat": 4,
 "nbformat_minor": 2
}
