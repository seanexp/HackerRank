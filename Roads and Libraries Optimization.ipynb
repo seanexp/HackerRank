{
 "cells": [
  {
   "cell_type": "code",
   "execution_count": 2,
   "metadata": {
    "collapsed": true
   },
   "outputs": [],
   "source": [
    "#!/bin/python3\n",
    "\n",
    "import sys\n",
    "\n",
    "\n",
    "visited = [False for i in range(10**5 + 1)]\n",
    "outward_roads = [[] for i in range(10**5 + 1)]\n",
    "\n",
    "def dfs(city): # -> number of cities in a component\n",
    "    if visited[city]: return 0\n",
    "    else:\n",
    "        visited[city] = True\n",
    "        unvisited_adj = list(filter(lambda x: not visited[x], outward_roads[city]))\n",
    "        \n",
    "        cnt = 1\n",
    "        for adj in unvisited_adj:\n",
    "            cnt += dfs(adj)\n",
    "            \n",
    "        return cnt"
   ]
  },
  {
   "cell_type": "code",
   "execution_count": 3,
   "metadata": {
    "collapsed": false
   },
   "outputs": [
    {
     "name": "stdout",
     "output_type": "stream",
     "text": [
      "1\n",
      "3 3 2 1\n",
      "1 2\n",
      "3 1\n",
      "2 3\n",
      "4\n"
     ]
    }
   ],
   "source": [
    "q = int(input().strip())\n",
    "for a0 in range(q):\n",
    "    n,m,x,y = input().strip().split(' ')\n",
    "    # n: number of cities, m: number of roads\n",
    "    n,m,c_lib,c_road = [int(n),int(m),int(x),int(y)]\n",
    "    for a1 in range(m):\n",
    "        city_1,city_2 = input().strip().split(' ')\n",
    "        city_1,city_2 = [int(city_1),int(city_2)]\n",
    "        outward_roads[city_1].append(city_2)\n",
    "        outward_roads[city_2].append(city_1)\n",
    "        \n",
    "    if c_lib <= c_road: print(c_lib * n)\n",
    "    else:\n",
    "        components = []\n",
    "        for city in range(1, n+1):\n",
    "            if not visited[city]:\n",
    "                components.append(dfs(city))\n",
    "\n",
    "        libs = len(components)\n",
    "        roads = n - libs\n",
    "\n",
    "        print(libs * c_lib + roads * c_road)\n",
    "        \n",
    "    visited = [False for i in range(10**5 + 1)]\n",
    "    outward_roads = [[] for i in range(10**5 + 1)]"
   ]
  }
 ],
 "metadata": {
  "kernelspec": {
   "display_name": "Python 3",
   "language": "python",
   "name": "python3"
  },
  "language_info": {
   "codemirror_mode": {
    "name": "ipython",
    "version": 3
   },
   "file_extension": ".py",
   "mimetype": "text/x-python",
   "name": "python",
   "nbconvert_exporter": "python",
   "pygments_lexer": "ipython3",
   "version": "3.6.0"
  }
 },
 "nbformat": 4,
 "nbformat_minor": 2
}
