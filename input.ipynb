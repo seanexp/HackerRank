{
 "cells": [
  {
   "cell_type": "code",
   "execution_count": 7,
   "metadata": {
    "collapsed": true
   },
   "outputs": [],
   "source": [
    "from random import randrange"
   ]
  },
  {
   "cell_type": "code",
   "execution_count": 8,
   "metadata": {
    "collapsed": false
   },
   "outputs": [
    {
     "data": {
      "text/plain": [
       "4"
      ]
     },
     "execution_count": 8,
     "metadata": {},
     "output_type": "execute_result"
    }
   ],
   "source": [
    "randrange(10)"
   ]
  },
  {
   "cell_type": "code",
   "execution_count": 20,
   "metadata": {
    "collapsed": false
   },
   "outputs": [
    {
     "name": "stdout",
     "output_type": "stream",
     "text": [
      "5\n",
      "wnkbg\n",
      "7\n",
      "gawlwuk\n",
      "10\n",
      "mgwpphukcy\n",
      "11\n",
      "ywuwcqfamkm\n",
      "5\n",
      "vpqhq\n",
      "7\n",
      "ucbwsal\n",
      "7\n",
      "nthaezt\n",
      "11\n",
      "wzvvhasozys\n",
      "5\n",
      "uxhze\n",
      "7\n",
      "jobjvqm\n",
      "9\n",
      "drcydlcfm\n",
      "7\n",
      "tmpcjzg\n",
      "7\n",
      "swetfwc\n",
      "8\n",
      "egyhhxad\n",
      "5\n",
      "ycudb\n",
      "7\n",
      "kzxsmtc\n",
      "6\n",
      "pgmtgz\n",
      "9\n",
      "izjsqnjbb\n",
      "10\n",
      "yqixjpoiqd\n",
      "8\n",
      "zywnlsft\n"
     ]
    }
   ],
   "source": [
    "for i in range(20):\n",
    "    n = randrange(5, 12)\n",
    "    print(n)\n",
    "    s = \"\".join([chr(97 + randrange(26)) for i in range(n)])\n",
    "    print(s)"
   ]
  },
  {
   "cell_type": "code",
   "execution_count": null,
   "metadata": {
    "collapsed": true
   },
   "outputs": [],
   "source": []
  }
 ],
 "metadata": {
  "kernelspec": {
   "display_name": "Python 3",
   "language": "python",
   "name": "python3"
  },
  "language_info": {
   "codemirror_mode": {
    "name": "ipython",
    "version": 3
   },
   "file_extension": ".py",
   "mimetype": "text/x-python",
   "name": "python",
   "nbconvert_exporter": "python",
   "pygments_lexer": "ipython3",
   "version": "3.6.0"
  }
 },
 "nbformat": 4,
 "nbformat_minor": 2
}
