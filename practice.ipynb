{
 "cells": [
  {
   "cell_type": "code",
   "execution_count": 1,
   "metadata": {
    "collapsed": true
   },
   "outputs": [],
   "source": [
    "def make_a(b):\n",
    "    if len(b) == 1:\n",
    "        head = b[0]\n",
    "        return [[head-i] for i in range(head)]\n",
    "    \n",
    "    head = b[0]\n",
    "    rest = make_a(b[1:])\n",
    "    answer = []\n",
    "    for i in range(1, head+1):\n",
    "        for li in rest:\n",
    "            answer.append([i] + li)\n",
    "            \n",
    "    return answer"
   ]
  },
  {
   "cell_type": "code",
   "execution_count": 2,
   "metadata": {
    "collapsed": true
   },
   "outputs": [],
   "source": [
    "def get_s(a):\n",
    "    add_up = 0\n",
    "    for i in range(1, len(a)):\n",
    "        add_up += abs(a[i] - a[i-1])\n",
    "        \n",
    "    return (add_up, a)"
   ]
  },
  {
   "cell_type": "code",
   "execution_count": 3,
   "metadata": {
    "collapsed": true
   },
   "outputs": [],
   "source": [
    "from random import randrange"
   ]
  },
  {
   "cell_type": "code",
   "execution_count": 4,
   "metadata": {
    "collapsed": false
   },
   "outputs": [
    {
     "name": "stdout",
     "output_type": "stream",
     "text": [
      "li =  [6, 3, 10, 9, 6, 6, 2]\n",
      "(34, [6, 1, 10, 1, 6, 1, 2])\n",
      "li =  [3, 6, 9, 8, 7, 9, 4, 3]\n",
      "(42, [1, 6, 1, 8, 1, 9, 1, 3])\n",
      "li =  [3, 3, 4, 6, 4, 8, 9, 4]\n",
      "(31, [1, 3, 1, 6, 1, 8, 1, 4])\n",
      "li =  [6, 9, 4, 10, 9]\n",
      "(34, [1, 9, 1, 10, 1])\n",
      "li =  [10, 9, 7, 8, 2, 7, 9]\n",
      "(42, [1, 9, 1, 8, 1, 7, 1])\n",
      "li =  [5, 9, 6, 10, 7]\n",
      "(34, [1, 9, 1, 10, 1])\n",
      "li =  [8, 2, 3, 5, 6, 10, 10, 6]\n",
      "(39, [8, 1, 3, 1, 6, 1, 10, 1])\n",
      "li =  [10, 4, 4, 7, 8, 8, 5, 10]\n",
      "(44, [10, 4, 1, 7, 1, 8, 1, 10])\n",
      "li =  [9, 2, 5, 4, 8, 6, 10]\n",
      "(39, [9, 1, 5, 1, 8, 1, 10])\n",
      "li =  [2, 10, 4, 7, 3, 3, 8, 6]\n",
      "(44, [1, 10, 1, 7, 3, 1, 8, 1])\n",
      "li =  [3, 6, 10, 2, 8, 3]\n",
      "(34, [3, 1, 10, 1, 8, 1])\n",
      "li =  [4, 9, 2, 2, 9, 2, 4]\n",
      "(35, [1, 9, 2, 1, 9, 1, 4])\n",
      "li =  [10, 4, 2, 2, 3]\n",
      "(13, [10, 1, 2, 1, 3])\n",
      "li =  [3, 8, 10, 5, 2]\n",
      "(22, [1, 8, 1, 5, 1])\n",
      "li =  [10, 2, 10, 2, 8, 8]\n",
      "(41, [10, 1, 10, 1, 8, 1])\n",
      "li =  [5, 3, 8, 6, 5, 2, 9, 6]\n",
      "(42, [5, 1, 8, 1, 5, 1, 9, 1])\n",
      "li =  [3, 6, 10, 2, 3, 4, 4]\n",
      "(27, [3, 1, 10, 1, 3, 1, 4])\n",
      "li =  [7, 6, 2, 9, 5, 9, 7, 5]\n",
      "(46, [1, 6, 1, 9, 1, 9, 1, 5])\n",
      "li =  [9, 8, 2, 5, 2, 2]\n",
      "(23, [1, 8, 1, 5, 1, 2])\n",
      "li =  [3, 4, 2, 8, 8, 5, 9, 3]\n",
      "(36, [1, 4, 2, 1, 8, 1, 9, 1])\n"
     ]
    }
   ],
   "source": [
    "N = 20\n",
    "for _ in range(N):\n",
    "    k = randrange(5, 9)\n",
    "    li = [randrange(2, 11) for _ in range(k)]\n",
    "    print(\"li = \", li)\n",
    "    answer = max(map(get_s, make_a(li)))\n",
    "    print(answer)"
   ]
  },
  {
   "cell_type": "code",
   "execution_count": null,
   "metadata": {
    "collapsed": true
   },
   "outputs": [],
   "source": []
  }
 ],
 "metadata": {
  "kernelspec": {
   "display_name": "Python 3",
   "language": "python",
   "name": "python3"
  },
  "language_info": {
   "codemirror_mode": {
    "name": "ipython",
    "version": 3
   },
   "file_extension": ".py",
   "mimetype": "text/x-python",
   "name": "python",
   "nbconvert_exporter": "python",
   "pygments_lexer": "ipython3",
   "version": "3.6.0"
  }
 },
 "nbformat": 4,
 "nbformat_minor": 2
}
