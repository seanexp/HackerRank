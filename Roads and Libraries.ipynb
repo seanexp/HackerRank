{
 "cells": [
  {
   "cell_type": "code",
   "execution_count": 23,
   "metadata": {
    "collapsed": true
   },
   "outputs": [],
   "source": [
    "#!/bin/python3\n",
    "\n",
    "import sys\n",
    "\n",
    "\n",
    "n = [0 for i in range(10**5 + 1)]\n",
    "parent = [i for i in range(10**5 + 1)] # Make Set\n",
    "rank = [0 for i in range(10**5+1)]\n",
    "\n",
    "def union(x, y):\n",
    "    xRoot = find(x)\n",
    "    yRoot = find(y)\n",
    "    \n",
    "    if xRoot == yRoot: return\n",
    "    if rank[xRoot] > rank[yRoot]:\n",
    "        parent[yRoot] = xRoot\n",
    "    elif rank[yRoot] > rank[xRoot]:\n",
    "        parent[xRoot] = yRoot\n",
    "    else:\n",
    "        parent[yRoot] = xRoot\n",
    "        rank[xRoot] += 1\n",
    "        \n",
    "def find(x):\n",
    "    if parent[x] != x:\n",
    "        parent[x] = find(parent[x])\n",
    "    return parent[x]"
   ]
  },
  {
   "cell_type": "code",
   "execution_count": null,
   "metadata": {
    "collapsed": true
   },
   "outputs": [],
   "source": [
    "q = int(input().strip())\n",
    "for a0 in range(q):\n",
    "    n,m,x,y = input().strip().split(' ')\n",
    "    # n: number of cities, m: number of roads\n",
    "    n,m,c_lib,c_road = [int(n),int(m),int(x),int(y)]\n",
    "    for a1 in range(m):\n",
    "        city_1,city_2 = input().strip().split(' ')\n",
    "        city_1,city_2 = [int(city_1),int(city_2)]\n",
    "        # make disjoint sets\n",
    "        union(city_1, city_2)\n",
    "        \n",
    "    if c_lib <= c_road: print(n*c_lib)\n",
    "    else:\n",
    "        roots = set()\n",
    "        for i in range(1, n+1):\n",
    "            roots.add(find(i))\n",
    "        \n",
    "        roads = 0\n",
    "        for r in roots:\n",
    "            roads += (parent[:n+1].count(r) - 1)\n",
    "        \n",
    "        cost = len(roots) * c_lib + roads * c_road\n",
    "        \n",
    "        print(cost)\n",
    "        \n",
    "    n = [0 for i in range(10**5 + 1)]\n",
    "    parent = [i for i in range(10**5 + 1)]\n",
    "    rank = [0 for i in range(10**5+1)]"
   ]
  }
 ],
 "metadata": {
  "kernelspec": {
   "display_name": "Python 3",
   "language": "python",
   "name": "python3"
  },
  "language_info": {
   "codemirror_mode": {
    "name": "ipython",
    "version": 3
   },
   "file_extension": ".py",
   "mimetype": "text/x-python",
   "name": "python",
   "nbconvert_exporter": "python",
   "pygments_lexer": "ipython3",
   "version": "3.6.0"
  }
 },
 "nbformat": 4,
 "nbformat_minor": 2
}
