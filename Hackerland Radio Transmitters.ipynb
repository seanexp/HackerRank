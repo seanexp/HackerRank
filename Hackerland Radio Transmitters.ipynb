{
 "cells": [
  {
   "cell_type": "code",
   "execution_count": 11,
   "metadata": {
    "collapsed": false
   },
   "outputs": [
    {
     "name": "stdout",
     "output_type": "stream",
     "text": [
      "7 2\n",
      "9 5 4 2 6 15 12\n",
      "[2, 4, 5, 6, 9, 12, 15]\n",
      "4\n"
     ]
    }
   ],
   "source": [
    "#!/bin/python3\n",
    "\n",
    "import sys\n",
    "\n",
    "\n",
    "n,k = input().strip().split(' ')\n",
    "n,k = [int(n), int(k)]\n",
    "x = [int(x_temp) for x_temp in input().strip().split(' ')]\n",
    "x.sort()\n",
    "\n",
    "print(x)\n",
    "\n",
    "cnt = 0\n",
    "while x:\n",
    "    cnt += 1\n",
    "    for i in range(len(x)):\n",
    "        if x[i] > x[0] + 2*k:\n",
    "            i -= 1\n",
    "            break\n",
    "        elif x[i] > x[i-1] + k:\n",
    "            i -= 1\n",
    "            break\n",
    "    \n",
    "    x = x[i+1:]\n",
    "    \n",
    "print(cnt)"
   ]
  },
  {
   "cell_type": "code",
   "execution_count": null,
   "metadata": {
    "collapsed": true
   },
   "outputs": [],
   "source": []
  }
 ],
 "metadata": {
  "kernelspec": {
   "display_name": "Python 3",
   "language": "python",
   "name": "python3"
  },
  "language_info": {
   "codemirror_mode": {
    "name": "ipython",
    "version": 3
   },
   "file_extension": ".py",
   "mimetype": "text/x-python",
   "name": "python",
   "nbconvert_exporter": "python",
   "pygments_lexer": "ipython3",
   "version": "3.6.0"
  }
 },
 "nbformat": 4,
 "nbformat_minor": 2
}
