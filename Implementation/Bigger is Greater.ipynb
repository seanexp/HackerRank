{
 "cells": [
  {
   "cell_type": "code",
   "execution_count": 3,
   "metadata": {
    "collapsed": true
   },
   "outputs": [],
   "source": [
    "def get_greater(w):\n",
    "    testw = w + 'a'\n",
    "    lastone = -1\n",
    "    for i in range(len(w)):\n",
    "        if testw[i] < testw[i+1]:\n",
    "            lastone = i\n",
    "    \n",
    "    # if c_i >= c_j for all i < j, there's no answer\n",
    "    if lastone < 0:\n",
    "        return \"no answer\"\n",
    "    else:\n",
    "        pivot = lastone\n",
    "        # get characters and their indices whose values are greater than that of pivot\n",
    "        val_idx = [(w[i], i) for i in range(pivot+1, len(w)) if w[i] > w[pivot]]\n",
    "        minval, idx = min(val_idx)\n",
    "        wlist = list(w)\n",
    "        wlist[pivot], wlist[idx] = wlist[idx], wlist[pivot]\n",
    "        wlist = wlist[:pivot+1] + sorted(wlist[pivot+1:])\n",
    "        return \"\".join(wlist)"
   ]
  },
  {
   "cell_type": "code",
   "execution_count": 4,
   "metadata": {
    "collapsed": false
   },
   "outputs": [
    {
     "name": "stdout",
     "output_type": "stream",
     "text": [
      "5\n",
      "ab\n",
      "ba\n",
      "bb\n",
      "no answer\n",
      "hefg\n",
      "hegf\n",
      "dfbg\n",
      "dfgb\n",
      "abbq\n",
      "abqb\n"
     ]
    }
   ],
   "source": [
    "T = int(input().strip())\n",
    "\n",
    "for _ in range(T):\n",
    "    w = input().strip()\n",
    "    print(get_greater(w))"
   ]
  },
  {
   "cell_type": "code",
   "execution_count": null,
   "metadata": {
    "collapsed": true
   },
   "outputs": [],
   "source": []
  }
 ],
 "metadata": {
  "kernelspec": {
   "display_name": "Python 3",
   "language": "python",
   "name": "python3"
  },
  "language_info": {
   "codemirror_mode": {
    "name": "ipython",
    "version": 3
   },
   "file_extension": ".py",
   "mimetype": "text/x-python",
   "name": "python",
   "nbconvert_exporter": "python",
   "pygments_lexer": "ipython3",
   "version": "3.6.0"
  }
 },
 "nbformat": 4,
 "nbformat_minor": 2
}
