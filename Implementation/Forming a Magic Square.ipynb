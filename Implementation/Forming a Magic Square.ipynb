{
 "cells": [
  {
   "cell_type": "code",
   "execution_count": 7,
   "metadata": {
    "collapsed": false
   },
   "outputs": [],
   "source": [
    "#!/bin/python3\n",
    "\n",
    "import sys\n",
    "import copy\n",
    "\n",
    "pre = [\n",
    "        [[8, 1, 6], [3, 5, 7], [4, 9, 2]],\n",
    "        [[6, 1, 8], [7, 5, 3], [2, 9, 4]],\n",
    "        [[4, 9, 2], [3, 5, 7], [8, 1, 6]],\n",
    "        [[2, 9, 4], [7, 5, 3], [6, 1, 8]], \n",
    "        [[8, 3, 4], [1, 5, 9], [6, 7, 2]],\n",
    "        [[4, 3, 8], [9, 5, 1], [2, 7, 6]], \n",
    "        [[6, 7, 2], [1, 5, 9], [8, 3, 4]], \n",
    "        [[2, 7, 6], [9, 5, 1], [4, 3, 8]],\n",
    "        ]\n",
    "\n",
    "def cost(sq1, sq2):\n",
    "    return sum([abs(sq1[i][j] - sq2[i][j]) for i in range(3) for j in range(3)])"
   ]
  },
  {
   "cell_type": "code",
   "execution_count": 9,
   "metadata": {
    "collapsed": false
   },
   "outputs": [
    {
     "name": "stdout",
     "output_type": "stream",
     "text": [
      "1 2 3\n",
      "1 2 3\n",
      "1 2 3\n",
      "29\n"
     ]
    }
   ],
   "source": [
    "s = []\n",
    "for s_i in range(3):\n",
    "    s_t = [int(s_temp) for s_temp in input().strip().split(' ')]\n",
    "    s.append(s_t)\n",
    "    \n",
    "#  Print the minimum cost of converting 's' into a magic square\n",
    "min_cost = 9999999999\n",
    "for square in pre:\n",
    "    min_cost = min(min_cost, cost(s, square))\n",
    "\n",
    "print(min_cost)"
   ]
  },
  {
   "cell_type": "code",
   "execution_count": null,
   "metadata": {
    "collapsed": true
   },
   "outputs": [],
   "source": []
  }
 ],
 "metadata": {
  "kernelspec": {
   "display_name": "Python 3",
   "language": "python",
   "name": "python3"
  },
  "language_info": {
   "codemirror_mode": {
    "name": "ipython",
    "version": 3
   },
   "file_extension": ".py",
   "mimetype": "text/x-python",
   "name": "python",
   "nbconvert_exporter": "python",
   "pygments_lexer": "ipython3",
   "version": "3.6.0"
  }
 },
 "nbformat": 4,
 "nbformat_minor": 2
}
