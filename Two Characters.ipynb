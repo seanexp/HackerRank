{
 "cells": [
  {
   "cell_type": "code",
   "execution_count": 7,
   "metadata": {
    "collapsed": true
   },
   "outputs": [],
   "source": [
    "def is_alternating(s):\n",
    "    for i in range(len(s)-1):\n",
    "        if s[i] == s[i+1]:\n",
    "            return False\n",
    "    \n",
    "    return True\n",
    "\n",
    "def two_characters(s):\n",
    "    char_pairs = []\n",
    "    charset = list(set(s))\n",
    "    for i in range(len(charset)-1):\n",
    "        char_pairs += list(map(lambda x: (charset[i], x), charset[i+1:]))\n",
    "        \n",
    "    max_len = 0\n",
    "    for char_a, char_b in char_pairs:\n",
    "        filtered_str = []\n",
    "        for i in range(len(s)):\n",
    "            if s[i] == char_a or s[i] == char_b:\n",
    "                filtered_str.append(s[i])\n",
    "        \n",
    "        if len(filtered_str) > max_len and is_alternating(filtered_str):\n",
    "            max_len = len(filtered_str)\n",
    "            \n",
    "    return max_len"
   ]
  },
  {
   "cell_type": "code",
   "execution_count": 8,
   "metadata": {
    "collapsed": false
   },
   "outputs": [
    {
     "name": "stdout",
     "output_type": "stream",
     "text": [
      "10\n",
      "beabeefeab\n",
      "5\n"
     ]
    }
   ],
   "source": [
    "s_len = int(input().strip())\n",
    "s = input().strip()\n",
    "\n",
    "print(two_characters(s))"
   ]
  },
  {
   "cell_type": "code",
   "execution_count": null,
   "metadata": {
    "collapsed": true
   },
   "outputs": [],
   "source": []
  }
 ],
 "metadata": {
  "kernelspec": {
   "display_name": "Python 3",
   "language": "python",
   "name": "python3"
  },
  "language_info": {
   "codemirror_mode": {
    "name": "ipython",
    "version": 3
   },
   "file_extension": ".py",
   "mimetype": "text/x-python",
   "name": "python",
   "nbconvert_exporter": "python",
   "pygments_lexer": "ipython3",
   "version": "3.6.0"
  }
 },
 "nbformat": 4,
 "nbformat_minor": 2
}
