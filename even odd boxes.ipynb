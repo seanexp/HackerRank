{
 "cells": [
  {
   "cell_type": "code",
   "execution_count": 36,
   "metadata": {
    "collapsed": true
   },
   "outputs": [],
   "source": [
    "def minimumChocolateMoves(n, X):\n",
    "    # Complete this function\n",
    "    num_odd_boxes = n // 2\n",
    "    num_even_boxes = n - num_odd_boxes\n",
    "    chocolate_sum = sum(X)\n",
    "    if num_odd_boxes % 2 != chocolate_sum % 2:\n",
    "        return -1\n",
    "    if chocolate_sum < n + num_even_boxes:\n",
    "        return -1\n",
    "    \n",
    "    even_boxes = [X[i] for i in range(n) if i % 2 == 0]\n",
    "    odd_boxes = [X[i] for i in range(n) if i % 2 == 1]\n",
    "    \n",
    "    odds_in_even = [x for x in even_boxes if x % 2 == 1]\n",
    "    even_in_odd = [x for x in odd_boxes if x % 2 == 0]\n",
    "    \n",
    "    cnt = 0\n",
    "    one_count = odds_in_even.count(1)\n",
    "    weirds = len(odds_in_even) + len(even_in_odd)\n",
    "    other_than_one = weirds - one_count\n",
    "    \n",
    "    if one_count > other_than_one:\n",
    "        cnt = one_count\n",
    "    else:\n",
    "        cnt = weirds // 2\n",
    "    \n",
    "    return cnt"
   ]
  },
  {
   "cell_type": "code",
   "execution_count": 37,
   "metadata": {
    "collapsed": false
   },
   "outputs": [
    {
     "name": "stdout",
     "output_type": "stream",
     "text": [
      "1\n",
      "22\n",
      "1 1 8 7 1 6 1 6 1 8 8 7 1 7 8 5 8 8 6 1 1 1\n",
      "6\n"
     ]
    }
   ],
   "source": [
    "#  Return the minimum number of chocolates that need to be moved, or -1 if it's impossible.\n",
    "q = int(input().strip())\n",
    "for a0 in range(q):\n",
    "    n = int(input().strip())\n",
    "    X = list(map(int, input().strip().split(' ')))\n",
    "    result = minimumChocolateMoves(n, X)\n",
    "    print(result)"
   ]
  },
  {
   "cell_type": "code",
   "execution_count": 18,
   "metadata": {
    "collapsed": true
   },
   "outputs": [],
   "source": [
    "from random import randrange"
   ]
  },
  {
   "cell_type": "code",
   "execution_count": 34,
   "metadata": {
    "collapsed": false
   },
   "outputs": [
    {
     "name": "stdout",
     "output_type": "stream",
     "text": [
      "22\n",
      "[1, 1, 8, 7, 1, 6, 1, 6, 1, 8, 8, 7, 1, 7, 8, 5, 8, 8, 6, 1, 1, 1]\n",
      "8\n",
      "16\n",
      "[5, 4, 5, 6, 7, 1, 8, 5, 5, 7, 4, 1, 1, 5, 7, 7]\n",
      "4.0\n",
      "20\n",
      "[1, 7, 1, 4, 7, 1, 8, 6, 5, 8, 4, 4, 6, 7, 8, 1, 7, 1, 8, 8]\n",
      "5.0\n",
      "5\n",
      "[1, 4, 5, 8, 4]\n",
      "2.0\n",
      "8\n",
      "[1, 6, 1, 6, 7, 7, 5, 1]\n",
      "3.0\n",
      "2\n",
      "[1, 6]\n",
      "1.0\n",
      "10\n",
      "[6, 1, 1, 1, 8, 1, 5, 7, 4, 1]\n",
      "1.0\n",
      "14\n",
      "[1, 5, 8, 1, 1, 4, 6, 1, 1, 7, 6, 1, 1, 6]\n",
      "5\n",
      "21\n",
      "[8, 1, 1, 7, 1, 5, 7, 1, 4, 1, 1, 1, 6, 7, 7, 1, 8, 1, 8, 5, 1]\n",
      "4\n",
      "7\n",
      "[6, 6, 6, 7, 5, 6, 1]\n",
      "2.0\n",
      "9\n",
      "[4, 7, 7, 4, 5, 1, 1, 1, 4]\n",
      "2.0\n",
      "20\n",
      "[1, 6, 7, 1, 7, 1, 8, 1, 1, 7, 5, 4, 4, 1, 1, 7, 4, 6, 8, 6]\n",
      "5.0\n",
      "18\n",
      "[7, 4, 1, 4, 8, 1, 5, 4, 1, 4, 8, 4, 6, 1, 1, 5, 1, 4]\n",
      "7\n",
      "13\n",
      "[1, 6, 5, 5, 6, 4, 8, 4, 8, 8, 4, 1, 4]\n",
      "3.0\n",
      "4\n",
      "[5, 1, 1, 1]\n",
      "1.0\n",
      "17\n",
      "[6, 1, 1, 1, 1, 6, 5, 8, 1, 4, 4, 7, 6, 8, 1, 1, 5]\n",
      "6\n"
     ]
    }
   ],
   "source": [
    "def myrand():\n",
    "    k = randrange(1, 9)\n",
    "    return 1 if k < 4 else k\n",
    "\n",
    "q = 30\n",
    "for i in range(q):\n",
    "    n = randrange(2, 25)\n",
    "    X = [myrand() for i in range(n)]\n",
    "    result = minimumChocolateMoves(n, X)\n",
    "    if result != -1:\n",
    "        print(n)\n",
    "        print(X)\n",
    "        print(result)"
   ]
  },
  {
   "cell_type": "code",
   "execution_count": null,
   "metadata": {
    "collapsed": true
   },
   "outputs": [],
   "source": []
  }
 ],
 "metadata": {
  "kernelspec": {
   "display_name": "Python 3",
   "language": "python",
   "name": "python3"
  },
  "language_info": {
   "codemirror_mode": {
    "name": "ipython",
    "version": 3
   },
   "file_extension": ".py",
   "mimetype": "text/x-python",
   "name": "python",
   "nbconvert_exporter": "python",
   "pygments_lexer": "ipython3",
   "version": "3.6.0"
  }
 },
 "nbformat": 4,
 "nbformat_minor": 2
}
