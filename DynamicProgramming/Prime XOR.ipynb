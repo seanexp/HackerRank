{
 "cells": [
  {
   "cell_type": "code",
   "execution_count": 9,
   "metadata": {
    "collapsed": true
   },
   "outputs": [],
   "source": [
    "from collections import Counter\n",
    "\n",
    "\n",
    "def primeXOR(a, n):\n",
    "    global prime, MAXNUM\n",
    "    \n",
    "    MOD = 10**9 + 7\n",
    "    \n",
    "    # if we use Counter in this example, it takes time to get item. Counter[i] takes O(log n) I guess\n",
    "    c = [0 for _ in range(1001)]\n",
    "    for i in range(len(a)):\n",
    "        c[a[i]-3500] += 1\n",
    "        \n",
    "    a = list(set(a))\n",
    "    n = len(a)\n",
    "    \n",
    "    # dp[i][j] : number of cases when you iterate to (i-1)th element of 'a' and get j\n",
    "    dp = [[0 for _ in range(MAXNUM + 1)] for _ in range(n+1)]\n",
    "    dp[0][0] = 1\n",
    "    \n",
    "    for i in range(1, n+1):\n",
    "        for j in range(MAXNUM + 1):\n",
    "            dp[i][j] = dp[i-1][j] * ((c[a[i-1]-3500] + 2) // 2) + dp[i-1][j ^ a[i-1]] * ((c[a[i-1]-3500] + 1) // 2)\n",
    "            dp[i][j] %= MOD\n",
    "    \n",
    "    cnt = 0\n",
    "    for j in range(MAXNUM + 1):\n",
    "        if prime[j]:\n",
    "            cnt += dp[n][j]\n",
    "            cnt %= MOD\n",
    "            \n",
    "    return cnt"
   ]
  },
  {
   "cell_type": "code",
   "execution_count": 10,
   "metadata": {
    "collapsed": false
   },
   "outputs": [
    {
     "name": "stdout",
     "output_type": "stream",
     "text": [
      "1\n",
      "3\n",
      "3511 3671 4153 \n",
      "4\n"
     ]
    }
   ],
   "source": [
    "MAXNUM = 2**13 - 1\n",
    "\n",
    "prime = [True for i in range(MAXNUM + 1)]\n",
    "\n",
    "prime[0] = False\n",
    "prime[1] = False\n",
    "for i in range(2, (MAXNUM + 1) // 2):\n",
    "    if prime[i]: \n",
    "        k = 2*i\n",
    "        while k <= MAXNUM:\n",
    "            prime[k] = False\n",
    "            k += i\n",
    "\n",
    "q = int(input().strip())\n",
    "\n",
    "for _ in range(q):\n",
    "    n = int(input().strip())\n",
    "    a = list(map(int, input().strip().split()))\n",
    "    \n",
    "    print(primeXOR(a, n))"
   ]
  },
  {
   "cell_type": "code",
   "execution_count": null,
   "metadata": {
    "collapsed": true
   },
   "outputs": [],
   "source": []
  }
 ],
 "metadata": {
  "kernelspec": {
   "display_name": "Python 3",
   "language": "python",
   "name": "python3"
  },
  "language_info": {
   "codemirror_mode": {
    "name": "ipython",
    "version": 3
   },
   "file_extension": ".py",
   "mimetype": "text/x-python",
   "name": "python",
   "nbconvert_exporter": "python",
   "pygments_lexer": "ipython3",
   "version": "3.6.0"
  }
 },
 "nbformat": 4,
 "nbformat_minor": 2
}
