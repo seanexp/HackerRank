{
 "cells": [
  {
   "cell_type": "code",
   "execution_count": 11,
   "metadata": {
    "collapsed": true
   },
   "outputs": [],
   "source": [
    "import logging\n",
    "\n",
    "\n",
    "def is_locmin(ratings, idx):\n",
    "    if idx == 0 and ratings[idx] <= ratings[idx+1]:\n",
    "        return True\n",
    "    if idx == len(ratings) - 1 and ratings[idx] <= ratings[idx-1]:\n",
    "        return True\n",
    "    if ratings[idx-1] >= ratings[idx] and ratings[idx] <= ratings[idx+1]:\n",
    "        return True\n",
    "    \n",
    "    return False\n",
    "\n",
    "def is_locmax(ratings, idx):\n",
    "    if idx == 0 and ratings[idx] >= ratings[idx+1]:\n",
    "        return True\n",
    "    if idx == len(ratings) - 1 and ratings[idx] >= ratings[idx-1]:\n",
    "        return True\n",
    "    if ratings[idx-1] <= ratings[idx] and ratings[idx] > ratings[idx+1]:\n",
    "        return True\n",
    "    \n",
    "    return False\n",
    "\n",
    "def get_next_locmin(ratings, idx):\n",
    "    for i in range(idx, len(ratings)):\n",
    "        if is_locmin(ratings, i):\n",
    "            return i\n",
    "    \n",
    "    return -1"
   ]
  },
  {
   "cell_type": "code",
   "execution_count": 14,
   "metadata": {
    "collapsed": true
   },
   "outputs": [],
   "source": [
    "def candies(ratings, n):\n",
    "    min_candies = 0\n",
    "    curr = 0\n",
    "    next_min = 0\n",
    "    for i in range(n):\n",
    "        if is_locmin(ratings, i):\n",
    "            curr = 1\n",
    "        elif is_locmax(ratings, i):\n",
    "            next_min = get_next_locmin(ratings, i)\n",
    "            if i > 0 and ratings[i-1] == ratings[i]:\n",
    "                curr = next_min - i + 1\n",
    "            else:\n",
    "                curr = max(curr+1, next_min - i + 1)\n",
    "        elif ratings[i-1] < ratings[i]:\n",
    "            curr += 1\n",
    "        elif ratings[i-1] > ratings[i]:\n",
    "            curr = next_min - i + 1\n",
    "        else:\n",
    "            logging.warning(\"corner case!\")\n",
    "            \n",
    "        min_candies += curr\n",
    "        \n",
    "    return min_candies"
   ]
  },
  {
   "cell_type": "code",
   "execution_count": 15,
   "metadata": {
    "collapsed": false
   },
   "outputs": [
    {
     "name": "stdout",
     "output_type": "stream",
     "text": [
      "3\n",
      "1\n",
      "2\n",
      "2\n",
      "4\n"
     ]
    }
   ],
   "source": [
    "N = int(input().strip())\n",
    "ratings = []\n",
    "\n",
    "for _ in range(N):\n",
    "    temp = int(input().strip())\n",
    "    ratings.append(temp)\n",
    "\n",
    "print(candies(ratings, N))"
   ]
  },
  {
   "cell_type": "code",
   "execution_count": null,
   "metadata": {
    "collapsed": true
   },
   "outputs": [],
   "source": []
  }
 ],
 "metadata": {
  "kernelspec": {
   "display_name": "Python 3",
   "language": "python",
   "name": "python3"
  },
  "language_info": {
   "codemirror_mode": {
    "name": "ipython",
    "version": 3
   },
   "file_extension": ".py",
   "mimetype": "text/x-python",
   "name": "python",
   "nbconvert_exporter": "python",
   "pygments_lexer": "ipython3",
   "version": "3.6.0"
  }
 },
 "nbformat": 4,
 "nbformat_minor": 2
}
