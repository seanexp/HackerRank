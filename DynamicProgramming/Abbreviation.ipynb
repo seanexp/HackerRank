{
 "cells": [
  {
   "cell_type": "code",
   "execution_count": 1,
   "metadata": {
    "collapsed": true
   },
   "outputs": [],
   "source": [
    "def abbreviate(a, b):\n",
    "    arr = [[False for i in range(len(b) + 1)] for j in range(len(a) + 1)]\n",
    "    \n",
    "    arr[0][0] = True\n",
    "    for i in range(1, len(a)+1):\n",
    "        if a[i-1].isupper():\n",
    "            arr[i][0] = False\n",
    "        else:\n",
    "            # lowercases can be erased\n",
    "            arr[i][0] = arr[i-1][0]\n",
    "    # if b is remaining it cannot be abbreviated\n",
    "    for j in range (1, len(b)+1):\n",
    "        arr[0][j]=False\n",
    "    \n",
    "    for i in range(1, len(a) + 1):\n",
    "        for j in range(1, len(b) + 1):\n",
    "            if i < j:\n",
    "                arr[i][j] = False\n",
    "            elif a[i-1].isupper():\n",
    "                if a[i-1] == b[j-1]: arr[i][j] = arr[i-1][j-1]\n",
    "                else: arr[i][j] = False\n",
    "            else: # if a[i-1] is lowercase\n",
    "                if a[i-1].upper() == b[j-1]:\n",
    "                    arr[i][j] = arr[i-1][j-1] or arr[i-1][j]\n",
    "                else:\n",
    "                    arr[i][j] = arr[i-1][j]\n",
    "    \n",
    "    return arr[len(a)][len(b)]"
   ]
  },
  {
   "cell_type": "code",
   "execution_count": 2,
   "metadata": {
    "collapsed": false
   },
   "outputs": [
    {
     "name": "stdout",
     "output_type": "stream",
     "text": [
      "1\n",
      "cccBB\n",
      "B\n",
      "False\n"
     ]
    }
   ],
   "source": [
    "q = int(input().strip())\n",
    "\n",
    "for _ in range(q):\n",
    "    a = input().strip()\n",
    "    b = input().strip()\n",
    "    print(abbreviate(a, b))"
   ]
  }
 ],
 "metadata": {
  "kernelspec": {
   "display_name": "Python 3",
   "language": "python",
   "name": "python3"
  },
  "language_info": {
   "codemirror_mode": {
    "name": "ipython",
    "version": 3
   },
   "file_extension": ".py",
   "mimetype": "text/x-python",
   "name": "python",
   "nbconvert_exporter": "python",
   "pygments_lexer": "ipython3",
   "version": "3.6.0"
  }
 },
 "nbformat": 4,
 "nbformat_minor": 2
}
