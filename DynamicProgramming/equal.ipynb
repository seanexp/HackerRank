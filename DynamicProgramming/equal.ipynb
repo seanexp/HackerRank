{
 "cells": [
  {
   "cell_type": "code",
   "execution_count": 20,
   "metadata": {
    "collapsed": true
   },
   "outputs": [],
   "source": [
    "import sys\n",
    "\n",
    "def equalize(chocos, N):\n",
    "    init = [0, 1, 1, 2, 2]\n",
    "    \n",
    "    chocos.sort()\n",
    "    minops = sys.maxsize\n",
    "    for i in range(5):\n",
    "        chocos_temp = chocos.copy()\n",
    "        chocos_temp[0] -= i\n",
    "        minval = chocos_temp[0]\n",
    "        ops = init[i]\n",
    "        for j in range(1, N):\n",
    "            diff  = chocos_temp[j] - minval\n",
    "            if diff >= 5:\n",
    "                # chocos_temp[j] = minval + (diff % 5)\n",
    "                ops += (diff // 5)\n",
    "            diff %= 5\n",
    "            \n",
    "            if diff >= 2:\n",
    "                # chocos_temp[j] = minval + (diff % 2)\n",
    "                ops += (diff // 2)\n",
    "            diff %= 2\n",
    "            \n",
    "            if diff == 1:\n",
    "                # chocos_temp[j] = minval\n",
    "                ops += 1\n",
    "                \n",
    "        if minops > ops: minops = ops\n",
    "    \n",
    "    return minops"
   ]
  },
  {
   "cell_type": "code",
   "execution_count": 21,
   "metadata": {
    "collapsed": false
   },
   "outputs": [
    {
     "name": "stdout",
     "output_type": "stream",
     "text": [
      "1\n",
      "3\n",
      "1 3 11223344\n",
      "2244671\n"
     ]
    }
   ],
   "source": [
    "T = int(input().strip())\n",
    "\n",
    "for _ in range(T):\n",
    "    N = int(input().strip())\n",
    "    chocos = list(map(int, input().strip().split()))\n",
    "    print(equalize(chocos, N))"
   ]
  },
  {
   "cell_type": "code",
   "execution_count": null,
   "metadata": {
    "collapsed": true
   },
   "outputs": [],
   "source": []
  }
 ],
 "metadata": {
  "kernelspec": {
   "display_name": "Python 3",
   "language": "python",
   "name": "python3"
  },
  "language_info": {
   "codemirror_mode": {
    "name": "ipython",
    "version": 3
   },
   "file_extension": ".py",
   "mimetype": "text/x-python",
   "name": "python",
   "nbconvert_exporter": "python",
   "pygments_lexer": "ipython3",
   "version": "3.6.0"
  }
 },
 "nbformat": 4,
 "nbformat_minor": 2
}
