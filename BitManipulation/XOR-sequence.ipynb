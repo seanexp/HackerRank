{
 "cells": [
  {
   "cell_type": "code",
   "execution_count": 6,
   "metadata": {
    "collapsed": true
   },
   "outputs": [],
   "source": [
    "def XORseq(L, R):\n",
    "    answer = 0\n",
    "    for i in range(L, R+1):\n",
    "        if i % 8 == 0: break\n",
    "        num = 0\n",
    "        if i % 4 == 0: num = i\n",
    "        elif i % 4 == 1: num = 1\n",
    "        elif i % 4 == 2: num = i + 1\n",
    "        else: num = 0\n",
    "        answer ^= num\n",
    "        print(i, num)\n",
    "            \n",
    "    start = (R // 8) * 8 if (R // 8) * 8 >= L else R+1\n",
    "    for i in range(start, R+1):\n",
    "        num = 0\n",
    "        if i % 4 == 0: num = i\n",
    "        elif i % 4 == 1: num = 1\n",
    "        elif i % 4 == 2: num = i + 1\n",
    "        else: num = 0\n",
    "        answer ^= num\n",
    "        print(i, num)\n",
    "        \n",
    "    return answer"
   ]
  },
  {
   "cell_type": "code",
   "execution_count": 15,
   "metadata": {
    "collapsed": false
   },
   "outputs": [
    {
     "name": "stdout",
     "output_type": "stream",
     "text": [
      "1\n",
      "8 10\n",
      "0\n"
     ]
    }
   ],
   "source": [
    "Q = int(input().strip())\n",
    "for a0 in range(Q):\n",
    "    L,R = input().strip().split(' ')\n",
    "    L,R = [int(L),int(R)]\n",
    "    print(XORseq(L, R))"
   ]
  },
  {
   "cell_type": "code",
   "execution_count": null,
   "metadata": {
    "collapsed": true
   },
   "outputs": [],
   "source": []
  }
 ],
 "metadata": {
  "kernelspec": {
   "display_name": "Python 3",
   "language": "python",
   "name": "python3"
  },
  "language_info": {
   "codemirror_mode": {
    "name": "ipython",
    "version": 3
   },
   "file_extension": ".py",
   "mimetype": "text/x-python",
   "name": "python",
   "nbconvert_exporter": "python",
   "pygments_lexer": "ipython3",
   "version": "3.6.0"
  }
 },
 "nbformat": 4,
 "nbformat_minor": 2
}
