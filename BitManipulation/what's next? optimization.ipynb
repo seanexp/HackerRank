{
 "cells": [
  {
   "cell_type": "code",
   "execution_count": 27,
   "metadata": {
    "collapsed": false
   },
   "outputs": [
    {
     "name": "stdout",
     "output_type": "stream",
     "text": [
      "1\n",
      "1\n",
      "1\n",
      "3\n",
      "1 1 0\n"
     ]
    }
   ],
   "source": [
    "def zlfill(arr):\n",
    "    # element at first index is num of leading zeros\n",
    "    zeros = sum(arr[::2])\n",
    "    ones = sum(arr[1::2])\n",
    "    return [zeros, ones]\n",
    "\n",
    "def zstrip(arr):\n",
    "    if not arr:\n",
    "        return []\n",
    "    elif 0 in arr:\n",
    "        idx = arr.index(0)\n",
    "        if idx == len(arr)-1: return arr[:-1]\n",
    "        mod_arr = arr[:idx] + zstrip(arr[idx+2:])\n",
    "        mod_arr[idx-1] += arr[idx+1]\n",
    "        return mod_arr\n",
    "    else:\n",
    "        return arr\n",
    "\n",
    "T = int(input())\n",
    "\n",
    "for i in range(T):\n",
    "    n = int(input())\n",
    "    arr_A = list(map(int, input().strip().split(' ')))\n",
    "    \n",
    "    C = []\n",
    "    if n == 1:\n",
    "        ones = arr_A[0]\n",
    "        C = zstrip([1, 1, ones - 1])\n",
    "    elif n == 2:\n",
    "        ones, zeros = arr_A\n",
    "        C = zstrip([1, zeros+1, ones-1])\n",
    "    else:\n",
    "        last_zero = (n-3) if n % 2 == 0 else (n-2)\n",
    "        arr_swap = arr_A[:last_zero+1] + [1, 1] + arr_A[last_zero+1:]\n",
    "        arr_swap[last_zero] -= 1\n",
    "        arr_swap[last_zero+3] -= 1\n",
    "        arr_C = arr_swap[:last_zero+2] + zlfill(arr_swap[last_zero+2:])\n",
    "        C = zstrip(arr_C)\n",
    "        \n",
    "    print(len(C))\n",
    "    print(\" \".join([str(x) for x in C]))"
   ]
  },
  {
   "cell_type": "code",
   "execution_count": null,
   "metadata": {
    "collapsed": true
   },
   "outputs": [],
   "source": [
    "121615640105387494 861883706188601074 1 875465273136350578 884146690770520418 9139120741511426 1 23833701693029949 1 817117154448209123"
   ]
  }
 ],
 "metadata": {
  "kernelspec": {
   "display_name": "Python 3",
   "language": "python",
   "name": "python3"
  },
  "language_info": {
   "codemirror_mode": {
    "name": "ipython",
    "version": 3
   },
   "file_extension": ".py",
   "mimetype": "text/x-python",
   "name": "python",
   "nbconvert_exporter": "python",
   "pygments_lexer": "ipython3",
   "version": "3.6.0"
  }
 },
 "nbformat": 4,
 "nbformat_minor": 2
}
