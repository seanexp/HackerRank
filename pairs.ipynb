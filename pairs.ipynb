{
 "cells": [
  {
   "cell_type": "code",
   "execution_count": 7,
   "metadata": {
    "collapsed": true
   },
   "outputs": [],
   "source": [
    "def pairs(a,k):\n",
    "    # a is the list of numbers and k is the difference value\n",
    "    a.sort()\n",
    "    cnt = 0\n",
    "    j = 0\n",
    "    for i in range(len(a)):\n",
    "        if j == len(a): break\n",
    "        while (a[j] - a[i]) < k: \n",
    "            j += 1\n",
    "            if j == len(a): break\n",
    "        if j == len(a): break\n",
    "        if (a[j] - a[i]) == k: cnt += 1\n",
    "        elif (a[j] - a[i]) > k: j -= 1\n",
    "\n",
    "    return cnt"
   ]
  },
  {
   "cell_type": "code",
   "execution_count": 8,
   "metadata": {
    "collapsed": false
   },
   "outputs": [
    {
     "name": "stdout",
     "output_type": "stream",
     "text": [
      "5 2\n",
      "1 5 3 4 2\n",
      "3\n"
     ]
    }
   ],
   "source": [
    "N, K = list(map(int, input().strip().split(' ')))\n",
    "numlist = list(map(int, input().strip().split(' ')))\n",
    "answer = pairs(numlist, K)\n",
    "print(answer)"
   ]
  },
  {
   "cell_type": "code",
   "execution_count": null,
   "metadata": {
    "collapsed": true
   },
   "outputs": [],
   "source": []
  }
 ],
 "metadata": {
  "kernelspec": {
   "display_name": "Python 3",
   "language": "python",
   "name": "python3"
  },
  "language_info": {
   "codemirror_mode": {
    "name": "ipython",
    "version": 3
   },
   "file_extension": ".py",
   "mimetype": "text/x-python",
   "name": "python",
   "nbconvert_exporter": "python",
   "pygments_lexer": "ipython3",
   "version": "3.6.0"
  }
 },
 "nbformat": 4,
 "nbformat_minor": 2
}
