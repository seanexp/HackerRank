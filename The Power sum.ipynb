{
 "cells": [
  {
   "cell_type": "code",
   "execution_count": 83,
   "metadata": {
    "collapsed": false
   },
   "outputs": [],
   "source": [
    "def has_duplicate(li):\n",
    "    for x in li:\n",
    "        if li.count(x) > 1: return True\n",
    "        \n",
    "    return False\n",
    "\n",
    "# def components(n, k):\n",
    "#     if n < 0: return [[-1]]\n",
    "#     if n == 0: return [[]]\n",
    "    \n",
    "#     combinations = []\n",
    "#     for i in range(1, round(n**(1./k)) + 1):\n",
    "#         append_i = list(map(lambda x: x + [i], components(n - i**k, k)))\n",
    "#         combinations += append_i\n",
    "        \n",
    "# #     print(combinations)\n",
    "#     filter_illegals = list(filter(lambda x: -1 not in x, combinations))\n",
    "#     return list(filter(lambda x: not has_duplicate(x), filter_illegals))\n",
    "\n",
    "def power_sum(n, k, start=1):\n",
    "    if n < 0: return 0\n",
    "    if n == 0: return 1\n",
    "    ways = 0\n",
    "    for i in range(start, round(n**(1./k)) + 1):\n",
    "        ways += power_sum(n - i**k, k, start=i+1)\n",
    "    \n",
    "    return ways\n",
    "\n",
    "# def power_sum(n, k):\n",
    "#     combinations = components(n, k)\n",
    "#     list_of_sets = list(map(lambda x: set(x), combinations))\n",
    "    \n",
    "#     print(\"prev:\", list_of_sets)\n",
    "    \n",
    "#     uniques = []\n",
    "#     while list_of_sets:\n",
    "#         head = list_of_sets[0]\n",
    "#         cnt = list_of_sets.count(head)\n",
    "#         for i in range(cnt):\n",
    "#             list_of_sets.remove(head)\n",
    "            \n",
    "#         uniques.append(head)\n",
    "    \n",
    "#     print(uniques)\n",
    "    \n",
    "#     return len(uniques)"
   ]
  },
  {
   "cell_type": "code",
   "execution_count": 86,
   "metadata": {
    "collapsed": false
   },
   "outputs": [
    {
     "name": "stdout",
     "output_type": "stream",
     "text": [
      "100\n",
      "3\n",
      "1\n"
     ]
    }
   ],
   "source": [
    "X = int(input().strip())\n",
    "N = int(input().strip())\n",
    "\n",
    "print(power_sum(X, N))"
   ]
  },
  {
   "cell_type": "code",
   "execution_count": null,
   "metadata": {
    "collapsed": true
   },
   "outputs": [],
   "source": []
  }
 ],
 "metadata": {
  "kernelspec": {
   "display_name": "Python 3",
   "language": "python",
   "name": "python3"
  },
  "language_info": {
   "codemirror_mode": {
    "name": "ipython",
    "version": 3
   },
   "file_extension": ".py",
   "mimetype": "text/x-python",
   "name": "python",
   "nbconvert_exporter": "python",
   "pygments_lexer": "ipython3",
   "version": "3.6.0"
  }
 },
 "nbformat": 4,
 "nbformat_minor": 2
}
