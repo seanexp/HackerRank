{
 "cells": [
  {
   "cell_type": "code",
   "execution_count": 3,
   "metadata": {
    "collapsed": false
   },
   "outputs": [],
   "source": [
    "def armyGame(n, m):\n",
    "    if n == 1 and m == 1: return 1\n",
    "    if (n*m) == 2 and (n == 1 or m == 1): return 1\n",
    "    if n == 2 and m == 2: return 1\n",
    "    if n == 1 or m == 1:\n",
    "        a = max(n, m)\n",
    "        return 1 + armyGame(1, a-2)\n",
    "    else: # n and m are both greater than 1\n",
    "        a = max(n, m)\n",
    "        b = min(n, m)\n",
    "        return armyGame(2, b) + armyGame(a-2, b)"
   ]
  },
  {
   "cell_type": "code",
   "execution_count": 4,
   "metadata": {
    "collapsed": false
   },
   "outputs": [
    {
     "name": "stdout",
     "output_type": "stream",
     "text": [
      "100 100\n",
      "2500\n"
     ]
    }
   ],
   "source": [
    "import sys\n",
    "\n",
    "\n",
    "n,m = input().strip().split(' ')\n",
    "n,m = [int(n),int(m)]\n",
    "\n",
    "print(int(armyGame(n, m)))"
   ]
  },
  {
   "cell_type": "code",
   "execution_count": null,
   "metadata": {
    "collapsed": true
   },
   "outputs": [],
   "source": []
  }
 ],
 "metadata": {
  "kernelspec": {
   "display_name": "Python 3",
   "language": "python",
   "name": "python3"
  },
  "language_info": {
   "codemirror_mode": {
    "name": "ipython",
    "version": 3
   },
   "file_extension": ".py",
   "mimetype": "text/x-python",
   "name": "python",
   "nbconvert_exporter": "python",
   "pygments_lexer": "ipython3",
   "version": "3.6.0"
  }
 },
 "nbformat": 4,
 "nbformat_minor": 2
}
