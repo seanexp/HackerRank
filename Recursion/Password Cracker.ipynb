{
 "cells": [
  {
   "cell_type": "code",
   "execution_count": 3,
   "metadata": {
    "collapsed": true
   },
   "outputs": [],
   "source": [
    "def p_crack(login, passwords):\n",
    "    # initialize\n",
    "    arr = [[[] for i in range(len(login))] for j in range(len(login))]\n",
    "            \n",
    "    passwords = set(passwords)\n",
    "    \n",
    "    # init arr(i, j) if it is a password\n",
    "    for i in range(len(login)):\n",
    "        for j in range(i, len(login)):\n",
    "            if login[i:j+1] in passwords:\n",
    "                arr[i][j] = [login[i:j+1]]\n",
    "    \n",
    "    for k in range(1, len(login)):\n",
    "        i = 0\n",
    "        j = i + k\n",
    "        while j < len(login):\n",
    "            for m in range(i, j):\n",
    "                if \"\".join(arr[i][m]) == login[i:m+1] and \"\".join(arr[m+1][j]) == login[m+1:j+1]:\n",
    "                    arr[i][j] = arr[i][m] + arr[m+1][j]\n",
    "                    \n",
    "            i += 1\n",
    "            j += 1\n",
    "    \n",
    "    # check if made one is the answer\n",
    "    if \"\".join(arr[0][len(login) - 1]) == login:\n",
    "        return \" \".join(arr[0][len(login) - 1])\n",
    "    else:\n",
    "        return \"WRONG PASSWORD\""
   ]
  },
  {
   "cell_type": "code",
   "execution_count": 4,
   "metadata": {
    "collapsed": false
   },
   "outputs": [
    {
     "name": "stdout",
     "output_type": "stream",
     "text": [
      "1\n",
      "4\n",
      "af bar afb arg\n",
      "afbarg\n",
      "afb arg\n"
     ]
    }
   ],
   "source": [
    "T = int(input().strip())\n",
    "\n",
    "for i in range(T):\n",
    "    N = int(input().strip())\n",
    "    passwords = input().strip().split(' ')\n",
    "    s = input().strip()\n",
    "    result = p_crack(s, passwords)\n",
    "    print(result)"
   ]
  },
  {
   "cell_type": "code",
   "execution_count": null,
   "metadata": {
    "collapsed": true
   },
   "outputs": [],
   "source": []
  }
 ],
 "metadata": {
  "kernelspec": {
   "display_name": "Python 3",
   "language": "python",
   "name": "python3"
  },
  "language_info": {
   "codemirror_mode": {
    "name": "ipython",
    "version": 3
   },
   "file_extension": ".py",
   "mimetype": "text/x-python",
   "name": "python",
   "nbconvert_exporter": "python",
   "pygments_lexer": "ipython3",
   "version": "3.6.0"
  }
 },
 "nbformat": 4,
 "nbformat_minor": 2
}
