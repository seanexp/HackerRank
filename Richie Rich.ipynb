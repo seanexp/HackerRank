{
 "cells": [
  {
   "cell_type": "code",
   "execution_count": 37,
   "metadata": {
    "collapsed": true
   },
   "outputs": [],
   "source": [
    "#!/bin/python3\n",
    "\n",
    "import sys\n",
    "\n",
    "def unmatched_pairs(s):\n",
    "    pairs = []\n",
    "    for i in range(len(s)//2):\n",
    "        if s[i] != s[len(s) - i - 1]:\n",
    "            pairs.append((i, len(s) - i - 1))\n",
    "    return pairs\n",
    "\n",
    "def non99pairs(s):\n",
    "    pairs = []\n",
    "    for i in range(len(s)//2):\n",
    "        if s[i] != '9' or s[len(s) - i - 1] != '9':\n",
    "            pairs.append((i, len(s) - i - 1))\n",
    "    \n",
    "    return pairs\n",
    "\n",
    "def richieRich(s, n, k):\n",
    "    nonmatching_pairs = unmatched_pairs(s)\n",
    "    if len(nonmatching_pairs) > k:\n",
    "        return '-1'\n",
    "    \n",
    "    slist = list(s)\n",
    "    non99s = non99pairs(slist)\n",
    "    while nonmatching_pairs and len(nonmatching_pairs) < k:\n",
    "        outmost_pair = nonmatching_pairs[0]\n",
    "        if k >= len(nonmatching_pairs) + 2:\n",
    "            if nonmatching_pairs[0][0] <= non99s[0][0]:\n",
    "                nonmatching_pairs = nonmatching_pairs[1:]\n",
    "            else:\n",
    "                outmost_pair = non99s[0]\n",
    "                non99s = non99s[1:]\n",
    "        else:\n",
    "            nonmatching_pairs = nonmatching_pairs[1:]\n",
    "            \n",
    "        idx1, idx2 = outmost_pair\n",
    "        count9 = list(map(lambda x: slist[x], outmost_pair)).count('9')\n",
    "        k -= (2 - count9)\n",
    "        slist[idx1] = '9'\n",
    "        slist[idx2] = '9'\n",
    "        \n",
    "    # deal with the case len(nonmatching_pairs) == k\n",
    "    for front, back in nonmatching_pairs:\n",
    "        slist[front] = max(slist[front], slist[back])\n",
    "        slist[back] = max(slist[front], slist[back])\n",
    "\n",
    "    k -= len(nonmatching_pairs)\n",
    "        \n",
    "    non99s = non99pairs(slist)\n",
    "    while k > 1 and non99s:\n",
    "        idx1, idx2 = non99s[0]\n",
    "        k -= 2\n",
    "        slist[idx1] = '9'\n",
    "        slist[idx2] = '9'\n",
    "        non99s = non99s[1:]\n",
    "        \n",
    "    if len(s) % 2 != 0 and k:\n",
    "        slist[len(s)//2] = '9'\n",
    "        \n",
    "    return \"\".join(slist)\n",
    "        "
   ]
  },
  {
   "cell_type": "code",
   "execution_count": 38,
   "metadata": {
    "collapsed": false
   },
   "outputs": [
    {
     "name": "stdout",
     "output_type": "stream",
     "text": [
      "5 4\n",
      "11331\n",
      "99399\n"
     ]
    }
   ],
   "source": [
    "n, k = list(map(int, input().strip().split(' ')))\n",
    "s = input().strip()\n",
    "result = richieRich(s, n, k)\n",
    "print(result)"
   ]
  }
 ],
 "metadata": {
  "kernelspec": {
   "display_name": "Python 3",
   "language": "python",
   "name": "python3"
  },
  "language_info": {
   "codemirror_mode": {
    "name": "ipython",
    "version": 3
   },
   "file_extension": ".py",
   "mimetype": "text/x-python",
   "name": "python",
   "nbconvert_exporter": "python",
   "pygments_lexer": "ipython3",
   "version": "3.6.0"
  }
 },
 "nbformat": 4,
 "nbformat_minor": 2
}
