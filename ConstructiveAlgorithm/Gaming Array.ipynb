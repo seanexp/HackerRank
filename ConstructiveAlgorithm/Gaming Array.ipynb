{
 "cells": [
  {
   "cell_type": "code",
   "execution_count": 10,
   "metadata": {
    "collapsed": true
   },
   "outputs": [],
   "source": [
    "#!/bin/python3\n",
    "\n",
    "import sys\n",
    "\n",
    "def winner(arr, n):\n",
    "    maxval = arr[0]\n",
    "    cnt = 0\n",
    "    for i in range(1, n):\n",
    "        if arr[i] > maxval: cnt += 1\n",
    "    \n",
    "    return \"BOB\" if (cnt % 2) == 0 else \"ANDY\""
   ]
  },
  {
   "cell_type": "code",
   "execution_count": 11,
   "metadata": {
    "collapsed": false
   },
   "outputs": [
    {
     "name": "stdout",
     "output_type": "stream",
     "text": [
      "1\n",
      "2\n",
      "3 1\n",
      "BOB\n"
     ]
    }
   ],
   "source": [
    "g = int(input().strip())\n",
    "for _ in range(g):\n",
    "    n = int(input().strip())\n",
    "    arr = list(map(int, input().strip().split()))\n",
    "    print(winner(arr, n))"
   ]
  },
  {
   "cell_type": "code",
   "execution_count": null,
   "metadata": {
    "collapsed": true
   },
   "outputs": [],
   "source": []
  }
 ],
 "metadata": {
  "kernelspec": {
   "display_name": "Python 3",
   "language": "python",
   "name": "python3"
  },
  "language_info": {
   "codemirror_mode": {
    "name": "ipython",
    "version": 3
   },
   "file_extension": ".py",
   "mimetype": "text/x-python",
   "name": "python",
   "nbconvert_exporter": "python",
   "pygments_lexer": "ipython3",
   "version": "3.6.0"
  }
 },
 "nbformat": 4,
 "nbformat_minor": 2
}
